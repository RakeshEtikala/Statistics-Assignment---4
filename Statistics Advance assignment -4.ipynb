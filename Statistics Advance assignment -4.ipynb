{
 "cells": [
  {
   "cell_type": "markdown",
   "id": "99834840-42b0-49d9-9f23-0d2e44f0b8d3",
   "metadata": {},
   "source": [
    "Q1. What is the difference between a t-test and a z-test? Provide an example scenario where you would \n",
    "use each type of test"
   ]
  },
  {
   "cell_type": "markdown",
   "id": "c334f83f-023b-406c-9409-00d590339c08",
   "metadata": {},
   "source": [
    "Use a z-test when you have a large sample size and know the population standard deviation. Use a t-test when you have a small sample size or when the population standard deviation is unknown. If the sample size is large enough, the results from the z-test and t-test will be similar."
   ]
  },
  {
   "cell_type": "markdown",
   "id": "06e25eea-edae-4c34-b8f3-edd50311cf64",
   "metadata": {},
   "source": [
    "Q2. Differentiate between one-tailed and two-tailed tests."
   ]
  },
  {
   "cell_type": "markdown",
   "id": "9f1db225-e78c-4d90-a037-b154f11af475",
   "metadata": {},
   "source": [
    "Ans.\n",
    "\n",
    "- **One-Tailed Test:** A statistical test where the research hypothesis specifies the direction of the expected effect, and the critical region for significance is located on only one side of the distribution curve.\n",
    "\n",
    "- **Two-Tailed Test:** A statistical test where the research hypothesis is non-directional, and the critical region for significance is divided between both tails of the distribution curve, allowing for detection of differences in either direction from the null hypothesis."
   ]
  },
  {
   "cell_type": "markdown",
   "id": "6df1a104-0d6a-492b-af88-a47e9ce47242",
   "metadata": {},
   "source": [
    "Q3. Explain the concept of Type 1 and Type 2 errors in hypothesis testing. Provide an example scenario for \n",
    "each type of error."
   ]
  },
  {
   "cell_type": "markdown",
   "id": "4bb30a16-06bf-4ad9-8bef-97dfa483f012",
   "metadata": {},
   "source": [
    "Ans. \n",
    "We reject the null hypothesis when in reality it is True  - Error - Type 1 Error.\n",
    "\n",
    "We retain the null hypothesis when in reality it is false - Error - Type 2 Error."
   ]
  },
  {
   "cell_type": "markdown",
   "id": "8cc4898a-2e5e-4691-b12e-bfb847212722",
   "metadata": {},
   "source": [
    "Q4. Explain Bayes's theorem with an example."
   ]
  },
  {
   "cell_type": "markdown",
   "id": "3cb3ce3e-67b8-48bf-af7c-c33d5eba3b40",
   "metadata": {},
   "source": [
    "Ans. Bayesian statistics is an approach to data analysis and parameter estimation based on Bayes theorem.\n",
    "\n",
    "Dependent events."
   ]
  },
  {
   "cell_type": "markdown",
   "id": "d60b4edf-3c36-41ce-867a-7f8a8ef77b98",
   "metadata": {},
   "source": [
    "Q5. What is a confidence interval? How to calculate the confidence interval, explain with an example"
   ]
  },
  {
   "cell_type": "markdown",
   "id": "17193f28-9ea4-4bdb-a40b-c68a0ac34abe",
   "metadata": {},
   "source": [
    "X bar is the value to estimate the population mean \n",
    "\n",
    "My X bar is 2.5 and my mean is 3\n",
    "\n",
    "here from the above there will be a difference where x bar can be 3 and mean can be 2.5 so in that case we should define some range of confidence interval.\n",
    "\n",
    "  we can say my point estimate ranges from (2,4) then we can estimate unknown population parameter so for this case we use confidence interval. We use a formula to define the intervals in the confidence interval.\n",
    "  \n",
    "  "
   ]
  },
  {
   "cell_type": "markdown",
   "id": "56f48b72-ac24-418d-b6a6-e5e5011cf273",
   "metadata": {},
   "source": [
    "Q6. What is the margin of error in a confidence interval? How does sample size affect the margin of error? \n",
    "Provide an example of a scenario where a larger sample size would result in a smaller margin of error"
   ]
  },
  {
   "cell_type": "markdown",
   "id": "c4e09c37-ea1f-4208-bbd1-f9da57508080",
   "metadata": {},
   "source": [
    "**Margin of Error:**\n",
    "The margin of error in a confidence interval is the range that accounts for the uncertainty in estimating a population parameter based on a sample. It is influenced by factors like sample size and desired confidence level. A larger sample size generally leads to a smaller margin of error, indicating a more precise estimate."
   ]
  },
  {
   "cell_type": "markdown",
   "id": "becce119-8555-424a-b5ed-1493e68287ac",
   "metadata": {},
   "source": [
    "Q7.  In a study of the effectiveness of a new weight loss drug, a sample of 50 participants lost an average \n",
    "of 6 pounds with a standard deviation of 2.5 pounds. Conduct a hypothesis test to determine if the drug is \n",
    "significantly effective at a 95% confidence level using a t-test"
   ]
  },
  {
   "cell_type": "markdown",
   "id": "c999a4c9-f97a-4bbe-bb67-5ae5375917fc",
   "metadata": {},
   "source": [
    "I got t-value of 16.970 is an extremely large t-value, especially for a sample size of 50. Such a high t-value indicates a significant difference between the sample mean and the hypothesized population mean under the null hypothesis.\n",
    "\n",
    "Therefore, you would conclude that there is strong evidence to reject the null hypothesis, suggesting that the weight loss drug is significantly effective based on the given sample data."
   ]
  }
 ],
 "metadata": {
  "kernelspec": {
   "display_name": "Python 3 (ipykernel)",
   "language": "python",
   "name": "python3"
  },
  "language_info": {
   "codemirror_mode": {
    "name": "ipython",
    "version": 3
   },
   "file_extension": ".py",
   "mimetype": "text/x-python",
   "name": "python",
   "nbconvert_exporter": "python",
   "pygments_lexer": "ipython3",
   "version": "3.10.8"
  }
 },
 "nbformat": 4,
 "nbformat_minor": 5
}
